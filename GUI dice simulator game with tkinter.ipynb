{
 "cells": [
  {
   "cell_type": "code",
   "execution_count": 45,
   "metadata": {},
   "outputs": [],
   "source": [
    "import tkinter\n",
    "import random\n",
    "\n",
    "\n",
    "root = tkinter.Tk()\n",
    "root.geometry('600x500')\n",
    "root.title('Dice Rolling Game')\n",
    "\n",
    "label = tkinter.Label(root, text='', font=('arial', 200))\n",
    "\n",
    "def roll_dice():\n",
    "    dice1 = random.randint(1, 6)\n",
    "    dice2 = random.randint(1, 6)\n",
    "\n",
    "    if dice1 == 1:\n",
    "        dice1 = '\\u2680'\n",
    "    elif dice1 == 2:\n",
    "        dice1 = '\\u2681'\n",
    "    elif dice1 == 3:\n",
    "        dice1 = '\\u2682'\n",
    "    elif dice1 == 4:\n",
    "        dice1 = '\\u2683'\n",
    "    elif dice1 == 5:\n",
    "        dice1 = '\\u2684'\n",
    "    elif dice1 == 6:\n",
    "        dice1 = '\\u2685'\n",
    "\n",
    "\n",
    "    if dice2 == 1:\n",
    "        dice2 = '\\u2680'\n",
    "    elif dice2 == 2:\n",
    "        dice2 = '\\u2681'\n",
    "    elif dice2 == 3:\n",
    "        dice2 = '\\u2682'\n",
    "    elif dice2 == 4:\n",
    "        dice2 = '\\u2683'\n",
    "    elif dice2 == 5:\n",
    "        dice2 = '\\u2684'\n",
    "    elif dice2 == 6:\n",
    "        dice2 = '\\u2685'\n",
    "    label.configure(text=f'{dice1} {dice2}')\n",
    "    label.pack()\n",
    "    \n",
    "\n",
    "    if dice1 > dice2:\n",
    "        tkinter.Label(text=\"You Won!\").pack()\n",
    "    elif dice1 < dice2:\n",
    "        tkinter.Label(text=\"You lost.\").pack()\n",
    "    else:\n",
    "        tkinter.Label(text=\"It's a draw.\").pack()\n",
    "        \n",
    "tk.Label(text=\"Your dice is on the right\", font = ('arial', 20, 'bold')).pack()\n",
    "button = tkinter.Button(root, text='Tap to roll dice', foreground='red', command=roll_dice)\n",
    "button.pack()\n",
    "root.mainloop()"
   ]
  },
  {
   "cell_type": "code",
   "execution_count": null,
   "metadata": {},
   "outputs": [],
   "source": []
  }
 ],
 "metadata": {
  "kernelspec": {
   "display_name": "Python 3",
   "language": "python",
   "name": "python3"
  },
  "language_info": {
   "codemirror_mode": {
    "name": "ipython",
    "version": 3
   },
   "file_extension": ".py",
   "mimetype": "text/x-python",
   "name": "python",
   "nbconvert_exporter": "python",
   "pygments_lexer": "ipython3",
   "version": "3.7.6"
  }
 },
 "nbformat": 4,
 "nbformat_minor": 4
}
